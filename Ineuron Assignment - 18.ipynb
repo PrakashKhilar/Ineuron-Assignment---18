{
 "cells": [
  {
   "cell_type": "markdown",
   "id": "26c241c8",
   "metadata": {},
   "source": [
    "# Ineuron Assignment - 18"
   ]
  },
  {
   "cell_type": "markdown",
   "id": "c6ff40a9",
   "metadata": {},
   "source": [
    "# SUBMITTED BY: PRAKASH KHILAR"
   ]
  },
  {
   "cell_type": "code",
   "execution_count": null,
   "id": "69f16f92",
   "metadata": {},
   "outputs": [],
   "source": [
    "!type zoo.py"
   ]
  },
  {
   "cell_type": "code",
   "execution_count": 19,
   "id": "200c4226",
   "metadata": {},
   "outputs": [],
   "source": [
    "def hours():\n",
    "    print(\"Open 9-5 daily\")"
   ]
  },
  {
   "cell_type": "code",
   "execution_count": null,
   "id": "015dff82",
   "metadata": {},
   "outputs": [],
   "source": [
    "# Q1 :  Create a zoo.py file first. Define the hours() function, which prints the string 'Open 9-5 daily'. \n",
    "#      Then, use the interactive interpreter to import the zoo module and call its hours() function."
   ]
  },
  {
   "cell_type": "code",
   "execution_count": 18,
   "id": "32b1b7c5",
   "metadata": {},
   "outputs": [
    {
     "ename": "ModuleNotFoundError",
     "evalue": "No module named 'zoo'",
     "output_type": "error",
     "traceback": [
      "\u001b[1;31m---------------------------------------------------------------------------\u001b[0m",
      "\u001b[1;31mModuleNotFoundError\u001b[0m                       Traceback (most recent call last)",
      "Input \u001b[1;32mIn [18]\u001b[0m, in \u001b[0;36m<cell line: 1>\u001b[1;34m()\u001b[0m\n\u001b[1;32m----> 1\u001b[0m \u001b[38;5;28;01mimport\u001b[39;00m \u001b[38;5;21;01mzoo\u001b[39;00m\n\u001b[0;32m      2\u001b[0m zoo\u001b[38;5;241m.\u001b[39mhours()\n",
      "\u001b[1;31mModuleNotFoundError\u001b[0m: No module named 'zoo'"
     ]
    }
   ],
   "source": [
    "import zoo\n",
    "zoo.hours()"
   ]
  },
  {
   "cell_type": "code",
   "execution_count": 5,
   "id": "7f2b58c8",
   "metadata": {},
   "outputs": [],
   "source": [
    "# Q2 : In the interactive interpreter, import the zoo module as menagerie and call its hours() function."
   ]
  },
  {
   "cell_type": "code",
   "execution_count": 6,
   "id": "9989723e",
   "metadata": {},
   "outputs": [
    {
     "ename": "ModuleNotFoundError",
     "evalue": "No module named 'zoo'",
     "output_type": "error",
     "traceback": [
      "\u001b[1;31m---------------------------------------------------------------------------\u001b[0m",
      "\u001b[1;31mModuleNotFoundError\u001b[0m                       Traceback (most recent call last)",
      "Input \u001b[1;32mIn [6]\u001b[0m, in \u001b[0;36m<cell line: 2>\u001b[1;34m()\u001b[0m\n\u001b[0;32m      1\u001b[0m \u001b[38;5;66;03m# Ans:\u001b[39;00m\n\u001b[1;32m----> 2\u001b[0m \u001b[38;5;28;01mimport\u001b[39;00m \u001b[38;5;21;01mzoo\u001b[39;00m \u001b[38;5;28;01mas\u001b[39;00m \u001b[38;5;21;01mmenagerie\u001b[39;00m\n\u001b[0;32m      3\u001b[0m menagerie\u001b[38;5;241m.\u001b[39mhours()\n",
      "\u001b[1;31mModuleNotFoundError\u001b[0m: No module named 'zoo'"
     ]
    }
   ],
   "source": [
    "# Ans:\n",
    "import zoo as menagerie\n",
    "menagerie.hours()"
   ]
  },
  {
   "cell_type": "code",
   "execution_count": 7,
   "id": "0bba57bf",
   "metadata": {},
   "outputs": [],
   "source": [
    "# Q3 : Using the interpreter, explicitly import and call the hours() function from zoo."
   ]
  },
  {
   "cell_type": "code",
   "execution_count": 8,
   "id": "85f507a4",
   "metadata": {},
   "outputs": [
    {
     "ename": "ModuleNotFoundError",
     "evalue": "No module named 'zoo'",
     "output_type": "error",
     "traceback": [
      "\u001b[1;31m---------------------------------------------------------------------------\u001b[0m",
      "\u001b[1;31mModuleNotFoundError\u001b[0m                       Traceback (most recent call last)",
      "Input \u001b[1;32mIn [8]\u001b[0m, in \u001b[0;36m<cell line: 2>\u001b[1;34m()\u001b[0m\n\u001b[0;32m      1\u001b[0m \u001b[38;5;66;03m# Ans :\u001b[39;00m\n\u001b[1;32m----> 2\u001b[0m \u001b[38;5;28;01mfrom\u001b[39;00m \u001b[38;5;21;01mzoo\u001b[39;00m \u001b[38;5;28;01mimport\u001b[39;00m hours\n\u001b[0;32m      3\u001b[0m hours()\n",
      "\u001b[1;31mModuleNotFoundError\u001b[0m: No module named 'zoo'"
     ]
    }
   ],
   "source": [
    "# Ans :\n",
    "from zoo import hours\n",
    "hours()"
   ]
  },
  {
   "cell_type": "code",
   "execution_count": 9,
   "id": "a674b51c",
   "metadata": {},
   "outputs": [],
   "source": [
    "# Q4 : Import the hours() function as info and call it."
   ]
  },
  {
   "cell_type": "code",
   "execution_count": 10,
   "id": "df11287b",
   "metadata": {},
   "outputs": [
    {
     "ename": "ModuleNotFoundError",
     "evalue": "No module named 'zoo'",
     "output_type": "error",
     "traceback": [
      "\u001b[1;31m---------------------------------------------------------------------------\u001b[0m",
      "\u001b[1;31mModuleNotFoundError\u001b[0m                       Traceback (most recent call last)",
      "Input \u001b[1;32mIn [10]\u001b[0m, in \u001b[0;36m<cell line: 2>\u001b[1;34m()\u001b[0m\n\u001b[0;32m      1\u001b[0m \u001b[38;5;66;03m# Ans :\u001b[39;00m\n\u001b[1;32m----> 2\u001b[0m \u001b[38;5;28;01mfrom\u001b[39;00m \u001b[38;5;21;01mzoo\u001b[39;00m \u001b[38;5;28;01mimport\u001b[39;00m hours \u001b[38;5;28;01mas\u001b[39;00m info\n\u001b[0;32m      3\u001b[0m info()\n",
      "\u001b[1;31mModuleNotFoundError\u001b[0m: No module named 'zoo'"
     ]
    }
   ],
   "source": [
    "# Ans :\n",
    "from zoo import hours as info\n",
    "info()"
   ]
  },
  {
   "cell_type": "code",
   "execution_count": 11,
   "id": "e2f48ed8",
   "metadata": {},
   "outputs": [],
   "source": [
    "# Q5 : Create a plain dictionary with the key-value pairs 'a': 1, 'b': 2, and 'c': 3, and print it out."
   ]
  },
  {
   "cell_type": "code",
   "execution_count": 12,
   "id": "8a106d0f",
   "metadata": {},
   "outputs": [
    {
     "name": "stdout",
     "output_type": "stream",
     "text": [
      "{'a': 1, 'b': 2, 'c': 3}\n"
     ]
    }
   ],
   "source": [
    "# Ans :\n",
    "plain_dict = {'a':1,'b':2,'c':3}\n",
    "print(plain_dict)"
   ]
  },
  {
   "cell_type": "code",
   "execution_count": 13,
   "id": "189c54a8",
   "metadata": {},
   "outputs": [],
   "source": [
    "# Q6 : Make an OrderedDict called fancy from the same pairs listed in 5 and print it. \n",
    "#      Did it print in the same order as plain?"
   ]
  },
  {
   "cell_type": "code",
   "execution_count": 14,
   "id": "52c862a4",
   "metadata": {},
   "outputs": [
    {
     "name": "stdout",
     "output_type": "stream",
     "text": [
      "plain_dict -> {'a': 1, 'b': 2, 'c': 3}\n",
      "fancy -> OrderedDict([('a', 1), ('b', 2), ('c', 3)])\n"
     ]
    }
   ],
   "source": [
    "# Ans :\n",
    "\n",
    "from collections import OrderedDict\n",
    "fancy = OrderedDict(plain_dict)\n",
    "print(f'plain_dict -> {plain_dict}')\n",
    "print(f'fancy -> {fancy}')"
   ]
  },
  {
   "cell_type": "code",
   "execution_count": 15,
   "id": "9d2a9bd2",
   "metadata": {},
   "outputs": [],
   "source": [
    "# Q7 : Make a default dictionary called dict_of_lists and pass it the argument list. \n",
    "#     Make the list dict_of_lists['a'] and append the value 'something for a' to it in one assignment. \n",
    "#    Print dict_of_lists['a']."
   ]
  },
  {
   "cell_type": "code",
   "execution_count": 16,
   "id": "6f93b872",
   "metadata": {},
   "outputs": [
    {
     "name": "stdout",
     "output_type": "stream",
     "text": [
      "['something for a']\n"
     ]
    }
   ],
   "source": [
    "# Ans : \n",
    "from collections import defaultdict\n",
    "dict_of_lists = defaultdict(list)\n",
    "dict_of_lists['a'].append('something for a')\n",
    "print(dict_of_lists['a'])"
   ]
  },
  {
   "cell_type": "code",
   "execution_count": null,
   "id": "325e72fd",
   "metadata": {},
   "outputs": [],
   "source": []
  }
 ],
 "metadata": {
  "kernelspec": {
   "display_name": "Python 3 (ipykernel)",
   "language": "python",
   "name": "python3"
  },
  "language_info": {
   "codemirror_mode": {
    "name": "ipython",
    "version": 3
   },
   "file_extension": ".py",
   "mimetype": "text/x-python",
   "name": "python",
   "nbconvert_exporter": "python",
   "pygments_lexer": "ipython3",
   "version": "3.9.12"
  }
 },
 "nbformat": 4,
 "nbformat_minor": 5
}
